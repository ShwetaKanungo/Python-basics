{
 "cells": [
  {
   "cell_type": "markdown",
   "id": "aed8f501",
   "metadata": {},
   "source": [
    "# Assignment-1(Python Basics)                         Submitted by: Shweta Kanungo\n",
    "\n",
    "\n",
    "\n"
   ]
  },
  {
   "cell_type": "markdown",
   "id": "3b0b1c5b",
   "metadata": {},
   "source": [
    "### Question 1.\tExplain Python Tokens & Data Types\twith the help of Example.\n"
   ]
  },
  {
   "cell_type": "markdown",
   "id": "95bcc190",
   "metadata": {},
   "source": [
    "### A)Tokens:\n",
    "They are the smallest units of a Python program that the interpreter can understand. Python uses various types of tokens, including keywords, identifiers, literals, operators, and punctuation symbols.\n"
   ]
  },
  {
   "cell_type": "markdown",
   "id": "be755e08",
   "metadata": {},
   "source": [
    "1.Keywords:Keywords are reserved words in Python, which have specific meanings and cannot be used as variable names.Some examples of keywords in Python include \"if,\" \"else,\" \"for,\" \"while,\" \"def,\" and \"import.\""
   ]
  },
  {
   "cell_type": "code",
   "execution_count": 4,
   "id": "7b1cb113",
   "metadata": {},
   "outputs": [
    {
     "name": "stdout",
     "output_type": "stream",
     "text": [
      "True\n"
     ]
    }
   ],
   "source": [
    "###Example 1\n",
    "\n",
    "a=4\n",
    "b=7\n",
    "if a>b:\n",
    "    print(\"False\")\n",
    "else:\n",
    "    print(\"True\")\n"
   ]
  },
  {
   "cell_type": "code",
   "execution_count": 6,
   "id": "238f8201",
   "metadata": {},
   "outputs": [
    {
     "name": "stdout",
     "output_type": "stream",
     "text": [
      "7\n",
      "8\n",
      "9\n",
      "end is the new begining\n"
     ]
    }
   ],
   "source": [
    "###Example 2\n",
    "\n",
    "i=7\n",
    "while i<10:\n",
    "    print(i)\n",
    "    i+=1\n",
    "print(\"end is the new begining\")"
   ]
  },
  {
   "cell_type": "markdown",
   "id": "bc085785",
   "metadata": {},
   "source": [
    "2. Identifiers: Identifiers are names given to variables, functions, classes, or other objects in Python. \n",
    "\n"
   ]
  },
  {
   "cell_type": "code",
   "execution_count": 18,
   "id": "29fde8e3",
   "metadata": {},
   "outputs": [],
   "source": [
    "###Example\n",
    "Name= \"Shweta\"\n",
    "Age= 35\n",
    "\n",
    "### Shweta and Age are identifier names"
   ]
  },
  {
   "cell_type": "markdown",
   "id": "b3405c16",
   "metadata": {},
   "source": [
    "3.Literals:Literals are constants representing specific values in Python. There are different types of literals, including:\n",
    "\n",
    "Integer literals (1,2,3...), \n",
    "Floating-point literals(3.14), \n",
    "String literals (Text enclosed in single or double quotes,e.g. \"Shweta\", \"Kanungo\"), \n",
    "Boolean literals (True or False)\n"
   ]
  },
  {
   "cell_type": "code",
   "execution_count": 19,
   "id": "0fd52ac9",
   "metadata": {},
   "outputs": [],
   "source": [
    "###Example\n",
    "a=6\n",
    "b=9.6\n",
    "Name= \"Shweta\"\n",
    "is_valid = True\n",
    "\n",
    "### These are integer, float, string and boolean literals respectively\n"
   ]
  },
  {
   "cell_type": "markdown",
   "id": "8b9efec5",
   "metadata": {},
   "source": [
    "#B)Operators:\n",
    "Operators are symbols that perform operations on variables and values. Types of operators, such as \n",
    "#Arithmetic\n",
    "#Comparison\n",
    "#Assignment\n",
    "#Logical\n",
    "#Membership\n",
    "#Identity\n",
    "#Bitwise"
   ]
  },
  {
   "cell_type": "code",
   "execution_count": 21,
   "id": "56702c9d",
   "metadata": {},
   "outputs": [],
   "source": [
    "### Example\n",
    "result = 5 + 3\n",
    "is_greater = 10 > 5\n",
    "logical_result = True and False\n",
    "\n",
    "###Here \"+,\" \">\", and \"and\" are operators.\n"
   ]
  },
  {
   "cell_type": "code",
   "execution_count": 30,
   "id": "96dbb9d5",
   "metadata": {},
   "outputs": [
    {
     "name": "stdout",
     "output_type": "stream",
     "text": [
      "13 3 40 1.6\n"
     ]
    }
   ],
   "source": [
    "#Arithmetic Operators: +,-,*,/,//,%,**\n",
    "# +(addition), -(Subtraction), *(Multiplication), **(Exponentiation), /(Division) ,\n",
    "# //(floor division or modulo division which give only integral value), %(Reminder division)\n",
    "\n",
    "\n",
    "###Example\n",
    "\n",
    "a=5\n",
    "b=8\n",
    "\n",
    "c=b+a\n",
    "d=b-a\n",
    "e=b*a\n",
    "f=b/a\n",
    "print (c,d,e,f)\n"
   ]
  },
  {
   "cell_type": "code",
   "execution_count": 36,
   "id": "20d0ffab",
   "metadata": {},
   "outputs": [
    {
     "name": "stdout",
     "output_type": "stream",
     "text": [
      "False\n",
      "True\n",
      "True\n",
      "False\n",
      "True\n",
      "False\n"
     ]
    }
   ],
   "source": [
    "# Comparision Operators \n",
    "# == Equal, != Not equal, >Greater than, <Less than, >=Greater than or equal to, <= Less than or equal to\n",
    "\n",
    "#Example\n",
    "a=1\n",
    "b=9\n",
    "print(b==a)\n",
    "print(b!=a)\n",
    "print(b>a)\n",
    "print(b<a)\n",
    "print(b>=a)\n",
    "print(b<=a)\n",
    "\n"
   ]
  },
  {
   "cell_type": "code",
   "execution_count": 37,
   "id": "cf4c1f9a",
   "metadata": {},
   "outputs": [
    {
     "name": "stdout",
     "output_type": "stream",
     "text": [
      "10\n"
     ]
    }
   ],
   "source": [
    "# Assignment Operators =, +=, *=, %= (Short hand operators e.g. c=c+a can be written as c+=a)\n",
    "#Example\n",
    "c=a+b\n",
    "print(c)"
   ]
  },
  {
   "cell_type": "code",
   "execution_count": 38,
   "id": "9d427bc9",
   "metadata": {},
   "outputs": [
    {
     "name": "stdout",
     "output_type": "stream",
     "text": [
      "11\n"
     ]
    }
   ],
   "source": [
    "c+=a\n",
    "print(c)"
   ]
  },
  {
   "cell_type": "code",
   "execution_count": 41,
   "id": "127b1da6",
   "metadata": {},
   "outputs": [
    {
     "name": "stdout",
     "output_type": "stream",
     "text": [
      "False\n",
      "True\n",
      "False\n",
      "False\n"
     ]
    }
   ],
   "source": [
    "### Logical Operators - and, or, not \n",
    "#Example\n",
    "print (a>2 and b<10)\n",
    "print (a<2 or b<10)\n",
    "print(not b)\n",
    "print(not a)"
   ]
  },
  {
   "cell_type": "code",
   "execution_count": 44,
   "id": "8feea6bf",
   "metadata": {},
   "outputs": [
    {
     "name": "stdout",
     "output_type": "stream",
     "text": [
      "True\n",
      "True\n",
      "False\n",
      "True\n"
     ]
    }
   ],
   "source": [
    "### Membership operators (in, not in) \n",
    "#Example\n",
    "r=\"Shweta\"\n",
    "s=\"Rajat\"\n",
    "\n",
    "print(\"R\" in s)\n",
    "print(\"S\" in r)\n",
    "print(\"A\" in s)\n",
    "print(\"A\" not in r)"
   ]
  },
  {
   "cell_type": "code",
   "execution_count": 45,
   "id": "517a9603",
   "metadata": {},
   "outputs": [
    {
     "name": "stdout",
     "output_type": "stream",
     "text": [
      "True\n",
      "False\n",
      "Hello 18\n",
      "Hello 1\n"
     ]
    }
   ],
   "source": [
    "### Identity Operator (is, is not) \n",
    "#Example\n",
    "Shweta = 1\n",
    "Rajat = 18\n",
    "\n",
    "print(Shweta is not Rajat)\n",
    "print (Rajat is Shweta)\n",
    "print(\"Hello\", Rajat)\n",
    "print (\"Hello\", Shweta)"
   ]
  },
  {
   "cell_type": "markdown",
   "id": "c7858fc5",
   "metadata": {},
   "source": [
    "### B) Data Types and data structure in Python\n",
    "The data type of a value (or variable) is an attribute that tells what kind of data that value can have. The basic data type are:\n",
    "1. Integer- Whole numbers like: 0,1,2...etc.\n",
    "2. Float- Fractional numbers like: 3.14, 4.6, 0.8...etc.\n",
    "3. Boolean- Binary value(True/False)\n",
    "4. String- Sequence of Chracters which is written between parentheses or apostrophes e.g. \"Hello\", \"Shweta28\", 'Pen', \"123\"\n",
    "\n",
    "Data structure in Python are as follows:\n",
    "\n",
    "1)Strings\n",
    "\n",
    "2)List\n",
    "\n",
    "3)Dictionary\n",
    "\n",
    "4)Tuples\n",
    "\n",
    "5)Sets"
   ]
  },
  {
   "cell_type": "code",
   "execution_count": 59,
   "id": "6cba5f0b",
   "metadata": {},
   "outputs": [
    {
     "name": "stdout",
     "output_type": "stream",
     "text": [
      "Shweta Rajat\n"
     ]
    },
    {
     "data": {
      "text/plain": [
       "str"
      ]
     },
     "execution_count": 59,
     "metadata": {},
     "output_type": "execute_result"
    }
   ],
   "source": [
    "#1.Strings-A string is a sequence of characters. String is ordered i.e. sequence matters\n",
    "#Creating a String\n",
    "#1) By putting the string in inverted commas ''\n",
    "#2) By using a function 'str'\n",
    "\n",
    "#Example\n",
    "\n",
    "r=\"Shweta\"\n",
    "s=\"Rajat\"\n",
    "print(r,s)\n",
    "type(r) "
   ]
  },
  {
   "cell_type": "code",
   "execution_count": 53,
   "id": "d98ba44d",
   "metadata": {},
   "outputs": [
    {
     "name": "stdout",
     "output_type": "stream",
     "text": [
      "['Shweta', 28, 6.83, 'Sarvesh', True, False, (18+2j)]\n"
     ]
    }
   ],
   "source": [
    "# 2. List-List is a ordered collection of multiple items stored in a single variable.\n",
    "# Created by Putting the items in a square bracket \n",
    "# List are changeable (Mutable) and allow duplicate values.\n",
    "# Items in the list are indexed, the first item has index [0], the second item has index [1] etc.\n",
    "#List items can be of any data type: String, int and boolean data types:\n",
    "\n",
    "#Example\n",
    "\n",
    "l=[\"Shweta\",28, 6.83, \"Sarvesh\", True, False, 18+2j]\n",
    "print(l)"
   ]
  },
  {
   "cell_type": "code",
   "execution_count": 54,
   "id": "5656ad3d",
   "metadata": {},
   "outputs": [
    {
     "name": "stdout",
     "output_type": "stream",
     "text": [
      "{'a': 500, 'b': 1000}\n"
     ]
    }
   ],
   "source": [
    "# 3. Dictionary\n",
    "#Dictionary is like a list.\n",
    "#It is an unordered collection of items. Sequence does not matter\n",
    "#Dictionary is Mutable\n",
    "#Each item of dictionary has a key / value pair.\n",
    "#While the values can be of any data type and can repeat, keys must be of immutable type\n",
    "\n",
    "#Example\n",
    "\n",
    "dic={'a':500,'b':1000}\n",
    "print(dic)\n"
   ]
  },
  {
   "cell_type": "code",
   "execution_count": 58,
   "id": "63ca0265",
   "metadata": {},
   "outputs": [
    {
     "name": "stdout",
     "output_type": "stream",
     "text": [
      "('a', 'b')\n"
     ]
    },
    {
     "data": {
      "text/plain": [
       "tuple"
      ]
     },
     "execution_count": 58,
     "metadata": {},
     "output_type": "execute_result"
    }
   ],
   "source": [
    "# 4. Tuples\n",
    "#Python tuples are a data structure that store an ordered sequence of values. Tuples are immutable. \n",
    "#This means you cannot change the values in a tuple. Tuples are defined with parenthesis.\n",
    "#Individual values in a tuple are called items. Tuples can store any data type.\n",
    "#Tuples are similar to Python lists, with one big difference: you cannot modify a tuple.\n",
    "\n",
    "Tup =('a','b')\n",
    "print(Tup)\n",
    "type(Tup)\n"
   ]
  },
  {
   "cell_type": "code",
   "execution_count": 57,
   "id": "37f3824e",
   "metadata": {},
   "outputs": [
    {
     "name": "stdout",
     "output_type": "stream",
     "text": [
      "{1, 2, 3, 5, 8}\n"
     ]
    },
    {
     "data": {
      "text/plain": [
       "set"
      ]
     },
     "execution_count": 57,
     "metadata": {},
     "output_type": "execute_result"
    }
   ],
   "source": [
    "# 5. Sets\n",
    "#Set is unordered collection of items. In sets sequence does not matter and indexing has no meaning\n",
    "#Sets are denoted by curly braces.\n",
    "#Every set item is unique (no duplicates) and are immutable (cannot be changed).\n",
    "\n",
    "s={3,5,8,2,1}\n",
    "print(s)\n",
    "type(s)\n"
   ]
  },
  {
   "cell_type": "markdown",
   "id": "4a46b5ac",
   "metadata": {},
   "source": [
    "### Question 2. You’re a Data Scientist. You have assigned a task to perform. Create two lists a & b, where a has values -> (11,89,41,32,77,90) and b has values -> (95,24,39,15,74,22). Compare the corresponding element values of both the lists and print “a element value is greater than b element value” if corresponding value from a is greater else print “a element value is less than b element value” if corresponding value from a is less than b.\n"
   ]
  },
  {
   "cell_type": "code",
   "execution_count": 12,
   "id": "8882307c",
   "metadata": {},
   "outputs": [
    {
     "name": "stdout",
     "output_type": "stream",
     "text": [
      "11 is less than 95\n",
      "89 is greater than 24\n",
      "41 is greater than 39\n",
      "32 is greater than 15\n",
      "77 is greater than 74\n",
      "90 is greater than 22\n"
     ]
    }
   ],
   "source": [
    "a=[11, 89, 41, 32, 77, 90]\n",
    "b=[95, 24, 39, 15, 74, 22]\n",
    " \n",
    "for i in range (len(a)):\n",
    "    \n",
    "        if a[i]>b[i]:\n",
    "            print(f\"{a[i]} is greater than {b[i]}\")\n",
    "        elif a[i]<b[i]:\n",
    "            print(f\"{a[i]} is less than {b[i]}\")\n",
    "        else:\n",
    "            print(f\"{a[i]} is equal to {b[i]}\")"
   ]
  },
  {
   "cell_type": "markdown",
   "id": "e7636203",
   "metadata": {},
   "source": [
    "### Question 3. Write code to create a class named Calculator.\n",
    "a)Define methods for addition, subtraction, multiplication and division that take in two numbers and return another number after Performing their respective operations.\n",
    "\n",
    "b) Define another method named execute command that takes two numbers and a string named command. The command string will be ‘add’, ‘sub’, ‘mul’, ‘div’. Perform Addition, Subtraction, Multiplication and Division on the two numbers respectively. Make sure the execute command method is case insensitive (meaning that even if the user passes ‘aDd’ as command it should perform addition on two numbers).\n"
   ]
  },
  {
   "cell_type": "code",
   "execution_count": 40,
   "id": "d36edaa5",
   "metadata": {},
   "outputs": [
    {
     "name": "stdout",
     "output_type": "stream",
     "text": [
      "Enter a no:28\n",
      "Enter a no:18\n",
      "Addition 46\n",
      "Subtraction 10\n",
      "Multiplication 504\n",
      "Division 1.5555555555555556\n"
     ]
    }
   ],
   "source": [
    "#a)Define methods for addition, subtraction, multiplication and division that take in two numbers \n",
    "#and return another number after Performing their respective operations.\n",
    "\n",
    "n1=int(input(\"Enter a no:\"))\n",
    "n2=int(input(\"Enter a no:\"))\n",
    "\n",
    "class Calculator:\n",
    "    def addition (self, n1, n2):\n",
    "        return n1+n2\n",
    "    def subtraction (self, n1, n2):\n",
    "        return n1-n2\n",
    "    def multiplication (self, n1, n2):\n",
    "        return n1*n2\n",
    "    def division (self, n1, n2):\n",
    "        if n2==0:\n",
    "            return \"Not allowed\"\n",
    "        return n1/n2\n",
    "    \n",
    "calculator=Calculator()\n",
    "\n",
    "result_add = calculator.addition(n1, n2)\n",
    "result_sub = calculator.subtraction(n1, n2)\n",
    "result_mul = calculator.multiplication(n1, n2)\n",
    "result_div = calculator.division(n1, n2)\n",
    "\n",
    "\n",
    "print(\"Addition\", result_add)\n",
    "print(\"Subtraction\", result_sub)\n",
    "print(\"Multiplication\", result_mul)\n",
    "print(\"Division\", result_div)"
   ]
  },
  {
   "cell_type": "code",
   "execution_count": 28,
   "id": "6e1cd7e0",
   "metadata": {},
   "outputs": [
    {
     "name": "stdout",
     "output_type": "stream",
     "text": [
      "Enter a no:28\n",
      "Enter a no:18\n",
      "Enter add/sub/mul/div   MUL\n",
      "Result: 504\n"
     ]
    }
   ],
   "source": [
    "#b) Define another method named execute command that takes two numbers and a string named command. \n",
    "#The command string will be ‘add’, ‘sub’, ‘mul’, ‘div’. \n",
    "#Perform Addition, Subtraction, Multiplication and Division on the two numbers respectively.\n",
    "#Make sure the execute command method is case insensitive \n",
    "#(meaning that even if the user passes ‘aDd’ as command it should perform addition on two numbers).\n",
    "\n",
    "n1=int(input(\"Enter a no:\"))\n",
    "n2=int(input(\"Enter a no:\"))\n",
    "command=str(input(\"Enter add/sub/mul/div   \")).lower()\n",
    "\n",
    "class Calculator:\n",
    "    def execute_command (n1, n2, command):\n",
    "        if command==\"add\":\n",
    "            return n1+n2\n",
    "        elif command==\"sub\":\n",
    "            return n1-n2\n",
    "        elif command==\"mul\":\n",
    "            return n1*n2\n",
    "        elif command==\"div\":\n",
    "            if n2==0:\n",
    "                return \"not allowed\"\n",
    "            else:\n",
    "                return n1/n2\n",
    "        else:\n",
    "            return \"Invalid command. Use 'add', 'sub', 'mul', or 'div'.\"\n",
    "    \n",
    "result = Calculator.execute_command(n1, n2, command)\n",
    "print(\"Result:\", result)\n",
    "        "
   ]
  },
  {
   "cell_type": "markdown",
   "id": "67377913",
   "metadata": {},
   "source": [
    "### Question 4.\tCreate a program to take numbers and store them in a list and Print a Square of numbers as tuple."
   ]
  },
  {
   "cell_type": "code",
   "execution_count": 37,
   "id": "e49e1a9c",
   "metadata": {},
   "outputs": [
    {
     "name": "stdout",
     "output_type": "stream",
     "text": [
      "Enter a number (or 'stop' to exit): 18\n",
      "Enter a number (or 'stop' to exit): 28\n",
      "Enter a number (or 'stop' to exit): 15\n",
      "Enter a number (or 'stop' to exit): 24\n",
      "Enter a number (or 'stop' to exit): stop\n",
      "The square of 18.0 is 324.0\n",
      "The square of 28.0 is 784.0\n",
      "The square of 15.0 is 225.0\n",
      "The square of 24.0 is 576.0\n"
     ]
    }
   ],
   "source": [
    "\n",
    "def get_numbers_and_squares():\n",
    "    numbers_and_squares = []  \n",
    "    \n",
    "    while True:\n",
    "        user_input = input(\"Enter a number (or 'stop' to exit): \")\n",
    "        \n",
    "        if user_input.lower() == 'stop':\n",
    "            break\n",
    "        \n",
    "        try:\n",
    "            num = float(user_input)\n",
    "            square = num ** 2\n",
    "            numbers_and_squares.append((num, square))\n",
    "        except ValueError:\n",
    "            print(\"Invalid input. Enter a number or 'stop' to exit.\")\n",
    "    \n",
    "    return numbers_and_squares\n",
    "\n",
    "result = get_numbers_and_squares()\n",
    "\n",
    "for num, square in result:\n",
    "    print(f\"The square of {num} is {square}\")\n"
   ]
  },
  {
   "cell_type": "markdown",
   "id": "bd20902b",
   "metadata": {},
   "source": [
    "### Question 5.\tWrite a Function to check if the year number is a leap year or not. Print all Leap Years of 21st Century."
   ]
  },
  {
   "cell_type": "code",
   "execution_count": 5,
   "id": "c7a088cd",
   "metadata": {},
   "outputs": [
    {
     "name": "stdout",
     "output_type": "stream",
     "text": [
      "Leap years in the 21st century:\n",
      "2000\n",
      "2004\n",
      "2008\n",
      "2012\n",
      "2016\n",
      "2020\n",
      "2024\n",
      "2028\n",
      "2032\n",
      "2036\n",
      "2040\n",
      "2044\n",
      "2048\n",
      "2052\n",
      "2056\n",
      "2060\n",
      "2064\n",
      "2068\n",
      "2072\n",
      "2076\n",
      "2080\n",
      "2084\n",
      "2088\n",
      "2092\n",
      "2096\n"
     ]
    }
   ],
   "source": [
    "def is_leap_year(year):\n",
    "    return (year % 4 == 0 and year % 100 != 0) or (year % 400 == 0)\n",
    "\n",
    "leap_years = [year for year in range(2000, 2100) if is_leap_year(year)]\n",
    "\n",
    "print(\"Leap years in the 21st century:\")\n",
    "for year in leap_years:\n",
    "    print(year)\n"
   ]
  },
  {
   "cell_type": "markdown",
   "id": "4901704a",
   "metadata": {},
   "source": [
    "### Question 6.\tWrite a Function to take an array and return another array that contains the members of the first array that are even in one array and odd in another array."
   ]
  },
  {
   "cell_type": "code",
   "execution_count": 16,
   "id": "8dd6588a",
   "metadata": {},
   "outputs": [
    {
     "name": "stdout",
     "output_type": "stream",
     "text": [
      "Even numbers: [18, 28, 24]\n",
      "Odd numbers: [15, 25]\n"
     ]
    }
   ],
   "source": [
    "def oddeven(input_array):\n",
    "    E=[]\n",
    "    O=[]\n",
    "    \n",
    "    for i in input_array:\n",
    "        if i % 2 == 0:\n",
    "            E.append(i)\n",
    "        else:\n",
    "            O.append(i)\n",
    "\n",
    "    return E, O\n",
    "\n",
    "\n",
    "input_array = [18,28, 15, 24, 25]\n",
    "\n",
    "Even, Odd = oddeven(input_array)\n",
    "print(\"Even numbers:\", Even)\n",
    "print(\"Odd numbers:\", Odd)\n"
   ]
  },
  {
   "cell_type": "markdown",
   "id": "f6b44d97",
   "metadata": {},
   "source": [
    "### Question 7.\tWrite a python code to print the following pattern.\n",
    "1\n",
    "\n",
    "1 2\n",
    "\n",
    "1 2 3\n",
    "\n",
    "1 2 3 4\n",
    "\n",
    "1 2 3 4 5\n",
    "\n"
   ]
  },
  {
   "cell_type": "code",
   "execution_count": 36,
   "id": "dde0f23f",
   "metadata": {},
   "outputs": [
    {
     "name": "stdout",
     "output_type": "stream",
     "text": [
      "1 \r\n",
      "1 2 \r\n",
      "1 2 3 \r\n",
      "1 2 3 4 \r\n",
      "1 2 3 4 5 \r\n"
     ]
    }
   ],
   "source": [
    "n=6\n",
    "for i in range(1,n):\n",
    "    for j in range(1, i+1):\n",
    "        print(j, end=\" \")\n",
    "    print(\"\\r\")\n",
    "    "
   ]
  }
 ],
 "metadata": {
  "kernelspec": {
   "display_name": "Python 3 (ipykernel)",
   "language": "python",
   "name": "python3"
  },
  "language_info": {
   "codemirror_mode": {
    "name": "ipython",
    "version": 3
   },
   "file_extension": ".py",
   "mimetype": "text/x-python",
   "name": "python",
   "nbconvert_exporter": "python",
   "pygments_lexer": "ipython3",
   "version": "3.11.4"
  }
 },
 "nbformat": 4,
 "nbformat_minor": 5
}
